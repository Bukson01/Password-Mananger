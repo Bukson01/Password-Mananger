{
 "cells": [
  {
   "cell_type": "code",
   "execution_count": null,
   "metadata": {},
   "outputs": [
    {
     "name": "stdout",
     "output_type": "stream",
     "text": [
      "Enter the master password: \n",
      "\n",
      "Do you like to add a new password, view the existing one or q to quit? \n",
      "(add/view/q): add\n",
      "\n",
      "Username: Jones\n",
      "Password: 123456787\n",
      "\n",
      "Do you like to add a new password, view the existing one or q to quit? \n",
      "(add/view/q): add\n",
      "\n",
      "Username: Paoulo\n",
      "Password: qwewewewereerqw\n",
      "\n",
      "Do you like to add a new password, view the existing one or q to quit? \n",
      "(add/view/q): view\n",
      "User:  Jones |Password:  123456787\n",
      "User:  Paoulo |Password:  qwewewewereerqw\n"
     ]
    }
   ],
   "source": [
    "# Now  we intend to make the length of the password a thing of consideration and also the capitalisation of the first letter\n",
    "from cryptography.fernet import Fernet\n",
    "\n",
    "def build_key():\n",
    "    key2 = Fernet.generate_key()\n",
    "    with open(\"key.key\",\"wb\") as key2_file:\n",
    "        key2_file.write(key2)\n",
    "build_key()\n",
    "\n",
    "def load_key2():\n",
    "    file = open(\"key.key\",\"rb\")\n",
    "    key2 = file.read()\n",
    "    file.close()\n",
    "    return key2\n",
    "\n",
    "master_pwd = input(\"Enter the master password: \")\n",
    "key2 = load_key2() + master_pwd.encode()\n",
    "fer = Fernet(key2)\n",
    "\n",
    "\n",
    "def add():\n",
    "    name = input(\"\\nUsername: \")\n",
    "    passw = input(\"Password: \")\n",
    "    if name[0].isupper() == False:# my own way to check for the first letter been upper name[0] != name[0].upper()\n",
    "        print(\"Error: First letter is not an uppercase!\")\n",
    "        quit()\n",
    "        \n",
    "    elif len(passw) < 6:\n",
    "        print(\"Error: Password is below 6 characters!\")\n",
    "        quit()\n",
    "        \n",
    "    else:\n",
    "        with open(\"Password.txt\",\"a\") as f:\n",
    "            f.write(name + \"|\" + fer.encrypt(passw.encode()).decode()+\"\\n\")\n",
    "        \n",
    "\n",
    "def view():\n",
    "    with open(\"password.txt\", \"r\") as f:\n",
    "        for line in f.readlines():\n",
    "            data = line.rstrip()\n",
    "            user,pwd = data.split(\"|\")\n",
    "            print(\"User: \", user , \"|Password: \",fer.decrypt(pwd.encode()).decode())\n",
    "            \n",
    "while True:\n",
    "    mode = input(\"\\nDo you like to add a new password, view the existing one or q to quit? \\n(add/view/q): \").lower()\n",
    "    if mode == \"q\":\n",
    "        break\n",
    "    if mode == \"add\":\n",
    "        add()\n",
    "    elif mode == \"view\":\n",
    "        view()\n",
    "    else:\n",
    "        print(\"Invalid mode was entered!\")\n",
    "        \n",
    "        "
   ]
  },
  {
   "cell_type": "code",
   "execution_count": null,
   "metadata": {},
   "outputs": [],
   "source": []
  }
 ],
 "metadata": {
  "kernelspec": {
   "display_name": "Python 3 (ipykernel)",
   "language": "python",
   "name": "python3"
  },
  "language_info": {
   "codemirror_mode": {
    "name": "ipython",
    "version": 3
   },
   "file_extension": ".py",
   "mimetype": "text/x-python",
   "name": "python",
   "nbconvert_exporter": "python",
   "pygments_lexer": "ipython3",
   "version": "3.9.12"
  }
 },
 "nbformat": 4,
 "nbformat_minor": 4
}
